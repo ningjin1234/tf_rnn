{
 "cells": [
  {
   "cell_type": "code",
   "execution_count": 1,
   "metadata": {
    "collapsed": true
   },
   "outputs": [],
   "source": [
    "import tensorflow as tf\n",
    "import numpy as np\n",
    "import tempfile"
   ]
  },
  {
   "cell_type": "code",
   "execution_count": null,
   "metadata": {
    "collapsed": true
   },
   "outputs": [],
   "source": [
    "batchSize = 5\n",
    "maxNumSteps = 8\n",
    "embeddingSize = 3\n",
    "nNeurons = 4"
   ]
  },
  {
   "cell_type": "code",
   "execution_count": null,
   "metadata": {
    "collapsed": true
   },
   "outputs": [],
   "source": [
    "tf.reset_default_graph()\n",
    "inputData = tf.placeholder(tf.float64, [batchSize, maxNumSteps, embeddingSize])\n",
    "targets = tf.placeholder(tf.int32, [batchSize])\n",
    "rnnCell = tf.nn.rnn_cell.BasicRNNCell(nNeurons)\n",
    "initState = rnnCell.zero_state(batchSize, tf.float64)\n",
    "\n",
    "outputs, last_states = tf.nn.dynamic_rnn(\n",
    "    cell=rnnCell,\n",
    "    dtype=tf.float64,\n",
    "    sequence_length=X_lengths,\n",
    "    inputs=X)\n",
    "    \n",
    "reshaped = tf.reshape(tf.concat(1, rnnOutputs), [-1, nNeurons])\n",
    "outputW = tf.get_variable(\"outputW\", [nNeurons, vocabSize], dtype=tf.float32)\n",
    "outputB = tf.get_variable(\"outputB\", [vocabSize], dtype=tf.float32)\n",
    "logits = tf.matmul(reshaped, outputW) + outputB\n",
    "loss = tf.nn.seq2seq.sequence_loss_by_example([logits], [tf.reshape(targets, [-1])], \n",
    "                                              [tf.ones(batchSize*numSteps, dtype=tf.float32)])\n",
    "\n",
    "cost = tf.reduce_sum(loss) / batchSize\n",
    "\n",
    "lr = tf.Variable(0.0, trainable=False)\n",
    "tvars = tf.trainable_variables()\n",
    "grads = tf.gradients(cost, tvars)\n",
    "optimizer = tf.train.GradientDescentOptimizer(lr)\n",
    "learningStep = optimizer.minimize(cost, var_list=tvars)\n",
    "initAll = tf.initialize_all_variables()"
   ]
  }
 ],
 "metadata": {
  "kernelspec": {
   "display_name": "Python 2",
   "language": "python",
   "name": "python2"
  },
  "language_info": {
   "codemirror_mode": {
    "name": "ipython",
    "version": 2
   },
   "file_extension": ".py",
   "mimetype": "text/x-python",
   "name": "python",
   "nbconvert_exporter": "python",
   "pygments_lexer": "ipython2",
   "version": "2.7.12"
  }
 },
 "nbformat": 4,
 "nbformat_minor": 1
}
