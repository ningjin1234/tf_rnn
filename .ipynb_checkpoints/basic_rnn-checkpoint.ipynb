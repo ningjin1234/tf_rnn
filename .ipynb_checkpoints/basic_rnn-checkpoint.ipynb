{
 "cells": [
  {
   "cell_type": "code",
   "execution_count": 1,
   "metadata": {
    "collapsed": true
   },
   "outputs": [],
   "source": [
    "import tensorflow as tf\n",
    "import numpy as np\n",
    "import tempfile"
   ]
  },
  {
   "cell_type": "code",
   "execution_count": 2,
   "metadata": {
    "collapsed": true
   },
   "outputs": [],
   "source": [
    "batchSize = 5\n",
    "maxNumSteps = 8\n",
    "embeddingSize = 3\n",
    "nNeurons = 4"
   ]
  },
  {
   "cell_type": "code",
   "execution_count": 46,
   "metadata": {
    "collapsed": false
   },
   "outputs": [],
   "source": [
    "tf.reset_default_graph()\n",
    "inputData = tf.placeholder(tf.float64, [batchSize, maxNumSteps, embeddingSize])\n",
    "inputLens = tf.placeholder(tf.int32, [batchSize])\n",
    "targets = tf.placeholder(tf.float64, [batchSize])\n",
    "rnnCell = tf.nn.rnn_cell.BasicRNNCell(nNeurons)\n",
    "initState = rnnCell.zero_state(batchSize, tf.float64)\n",
    "\n",
    "raw_outputs, last_states = tf.nn.dynamic_rnn(\n",
    "    cell=rnnCell,\n",
    "    dtype=tf.float64,\n",
    "    sequence_length=inputLens,\n",
    "    inputs=inputData)\n",
    "    \n",
    "flattened_outputs = tf.reshape(raw_outputs, [-1, nNeurons])\n",
    "index = tf.range(0, batchSize) * maxNumSteps + inputLens - 1\n",
    "outputs = tf.gather(flattened_outputs, index)\n",
    "outputW = tf.get_variable(\"outputW\", [nNeurons, 1], dtype=tf.float64)\n",
    "outputB = tf.get_variable(\"outputB\", [1], dtype=tf.float64)\n",
    "prediction = tf.add(tf.matmul(outputs, outputW), outputB)\n",
    "loss = tf.reduce_sum(tf.pow(prediction-targets, 2)/batchSize)\n",
    "\n",
    "lr = tf.Variable(0.1, trainable=False)\n",
    "tvars = tf.trainable_variables()\n",
    "optimizer = tf.train.GradientDescentOptimizer(lr)\n",
    "learningStep = optimizer.minimize(loss, var_list=tvars)\n",
    "initAll = tf.initialize_all_variables()"
   ]
  },
  {
   "cell_type": "code",
   "execution_count": 49,
   "metadata": {
    "collapsed": false
   },
   "outputs": [
    {
     "name": "stdout",
     "output_type": "stream",
     "text": [
      "8.31101135625\n",
      "RNN/BasicRNNCell/Linear/Matrix:0\n",
      "[[-0.08239646  0.59748428  0.12193531  0.4990461 ]\n",
      " [ 0.28786777 -0.14859199 -0.13967371  0.25624316]\n",
      " [ 0.23451706 -0.62042041  0.12601485  0.42772977]\n",
      " [-0.58630949  0.5029268   0.64242737 -0.45410867]\n",
      " [ 0.3306859  -0.44086583 -0.17898542 -0.10811866]\n",
      " [-0.0539001   0.29522955  0.2942231  -0.4987094 ]\n",
      " [ 0.54063058  0.63354426  0.19164444 -0.4561666 ]]\n",
      "RNN/BasicRNNCell/Linear/Bias:0\n",
      "[ 0.  0.  0.  0.]\n",
      "outputW:0\n",
      "[[ 0.30773538]\n",
      " [-0.28127792]\n",
      " [ 0.00159625]\n",
      " [-0.43565135]]\n",
      "outputB:0\n",
      "[-0.98569768]\n",
      "2.24453442185\n",
      "RNN/BasicRNNCell/Linear/Matrix:0\n",
      "[[ 0.19998894  0.35049859  0.12044345  0.33443318]\n",
      " [ 0.37686253 -0.21991353 -0.06727251  0.35446629]\n",
      " [ 0.21583406 -0.69731488  0.09903804  0.43666605]\n",
      " [-0.64592167  0.56508744  0.6471847  -0.47541413]\n",
      " [ 0.24463743 -0.3058924  -0.14379793  0.01967072]\n",
      " [-0.04410591  0.28288945  0.29669184 -0.47642893]\n",
      " [ 0.53320568  0.65962178  0.21492641 -0.4120908 ]]\n",
      "RNN/BasicRNNCell/Linear/Bias:0\n",
      "[ 0.17099123 -0.12809525  0.0313976  -0.17789486]\n",
      "outputW:0\n",
      "[[-0.0420966 ]\n",
      " [ 0.09418606]\n",
      " [ 0.18543551]\n",
      " [ 0.11150448]]\n",
      "outputB:0\n",
      "[ 0.08427348]\n"
     ]
    }
   ],
   "source": [
    "data = np.random.randn(batchSize, maxNumSteps, embeddingSize)\n",
    "lens = [maxNumSteps for i in xrange(batchSize)]\n",
    "t = np.random.randn(batchSize)\n",
    "with tf.Session() as sess:\n",
    "    sess.run(initAll)\n",
    "    l = sess.run(loss, feed_dict={inputData:data, inputLens:lens, targets:t})\n",
    "    print l\n",
    "    for v in tvars:\n",
    "        print v.name\n",
    "        print sess.run(v)\n",
    "#     w = sess.run(outputW)\n",
    "#     b = sess.run(outputB)\n",
    "#     print w\n",
    "#     print b\n",
    "#     r = sess.run(raw_outputs, feed_dict={inputData:data, inputLens:lens, targets:t})\n",
    "#     print len(r), len(r[0])\n",
    "#     print r[:,-1]\n",
    "#     i = sess.run(index, feed_dict={inputData:data, inputLens:lens, targets:t})\n",
    "#     print i\n",
    "#     o = sess.run(outputs, feed_dict={inputData:data, inputLens:lens, targets:t})\n",
    "#     print o\n",
    "#     m = sess.run(tf.matmul(outputs, outputW), feed_dict={inputData:data, inputLens:lens, targets:t})\n",
    "#     print m\n",
    "#     p = sess.run(prediction, feed_dict={inputData:data, inputLens:lens, targets:t})\n",
    "#     print p\n",
    "    sess.run(learningStep, feed_dict={inputData:data, inputLens:lens, targets:t})\n",
    "    l = sess.run(loss, feed_dict={inputData:data, inputLens:lens, targets:t})\n",
    "    print l\n",
    "    for v in tvars:\n",
    "        print v.name\n",
    "        print sess.run(v)"
   ]
  },
  {
   "cell_type": "code",
   "execution_count": 33,
   "metadata": {
    "collapsed": false
   },
   "outputs": [
    {
     "data": {
      "text/plain": [
       "array([[ 0.66335526],\n",
       "       [ 0.70219608],\n",
       "       [-0.58211488],\n",
       "       [ 0.07739599],\n",
       "       [ 0.10125138]])"
      ]
     },
     "execution_count": 33,
     "metadata": {},
     "output_type": "execute_result"
    }
   ],
   "source": [
    "np.dot(r[:,-1], w)"
   ]
  },
  {
   "cell_type": "code",
   "execution_count": 41,
   "metadata": {
    "collapsed": false
   },
   "outputs": [
    {
     "name": "stdout",
     "output_type": "stream",
     "text": [
      "RNN/BasicRNNCell/Linear/Matrix:0\n",
      "RNN/BasicRNNCell/Linear/Bias:0\n",
      "outputW:0\n",
      "outputB:0\n"
     ]
    }
   ],
   "source": [
    "for v in tvars:\n",
    "    print v.name"
   ]
  }
 ],
 "metadata": {
  "kernelspec": {
   "display_name": "Python 2",
   "language": "python",
   "name": "python2"
  },
  "language_info": {
   "codemirror_mode": {
    "name": "ipython",
    "version": 2
   },
   "file_extension": ".py",
   "mimetype": "text/x-python",
   "name": "python",
   "nbconvert_exporter": "python",
   "pygments_lexer": "ipython2",
   "version": "2.7.12"
  }
 },
 "nbformat": 4,
 "nbformat_minor": 1
}
